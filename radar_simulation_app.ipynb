import numpy as np
from scipy.special import erfc
import matplotlib.pyplot as plt
from ipywidgets import FloatSlider, IntSlider, FloatText, IntText, VBox, HBox, interactive_output, Layout
from scipy.signal import correlate

#constant
c=3e8  # Speed of light (m/s)
k=1.38e-23  # Boltzmann's constant (J/K)

#widgets for simulation
fc_w= FloatText(value=10e9, description='Frequency (Hz):', layout=Layout(width='50%'))
duration_w=FloatText(value=1e-6, description='Duration (s):', layout=Layout(width='50%'))
sample_rate_w= FloatText(value=1e7, description='Sample Rate (Hz):', layout=Layout(width='50%'))
distance_w= FloatSlider(value=1500, min=0, max=10000, step=10, description='Distance (m):', layout=Layout(width='50%'))
attenuation_w= FloatSlider(value=0.7, min=0, max=1, step=0.01, description='Attenuation:', layout=Layout(width='50%'))
snr_db_w= IntSlider(value=10, min=-20, max=30, step=1, description='SNR (dB):', layout=Layout(width='50%'))
Pt_w= FloatText(value=1000, description='Transmit Power (W):', layout=Layout(width='50%'))
Gt_w= IntText(value=30, description='Transmit Gain (dB):', layout=Layout(width='50%'))
Gr_w= IntText(value=30, description='Receive Gain (dB):', layout=Layout(width='50%'))
RCS_w= FloatText(value=1, description='RCS (m^2):', layout=Layout(width='50%'))
Temp_w= IntText(value=290, description='Temperature (K):', layout=Layout(width='50%'))
B_w= FloatText(value=1e6, description='Bandwidth (Hz):', layout=Layout(width='50%'))
NF_w= IntText(value=3, description='Noise Figure (dB):', layout=Layout(width='50%'))
pfa_w= FloatText(value=1e-6, description='Pfa:', layout=Layout(width='50%'))
velocity_w= FloatSlider(value=0, min=-200, max=200, step=1, description='Velocity (m/s):', layout=Layout(width='50%'))
clutter_level_w= IntSlider(value=0, min=-20, max=20, step=1, description='Clutter Level (dB):', layout=Layout(width='50%'))

param_widgets = VBox([
    HBox([fc_w, duration_w, sample_rate_w]),
    HBox([distance_w, attenuation_w, snr_db_w]),
    HBox([Pt_w, Gt_w, Gr_w]),
    HBox([RCS_w, Temp_w, B_w]),
    HBox([NF_w, pfa_w, velocity_w, clutter_level_w])
], layout=Layout(border='1px solid lightgray', padding='10px'))

#signal functions
def generate_pulse(fc, duration, sample_rate):
    t = np.arange(0, duration, 1/sample_rate)
    pulse = np.sin(2 * np.pi * fc * t)
    return t, pulse

def simulate_target_doppler(pulse, distance, sample_rate, velocity_mps, fc, attenuation=1.0):
    delay_samples = int((2 * distance / c) * sample_rate)
    doppler_freq = 2 * velocity_mps * fc / c
    t = np.arange(0, len(pulse)/sample_rate, 1/sample_rate)
    shifted_pulse = pulse * np.exp(1j * 2 * np.pi * doppler_freq * t[:len(pulse)])
    echo = np.zeros(delay_samples + len(shifted_pulse), dtype=complex)
    echo[delay_samples:delay_samples + len(shifted_pulse)] = attenuation * shifted_pulse
    return echo.real

def add_clutter(signal, clutter_level_db, sample_rate):
    signal_power = np.mean(np.abs(signal)**2)
    clutter_power = signal_power / (10**(clutter_level_db / 10))
    clutter = np.random.normal(0, np.sqrt(clutter_power), len(signal))
    return signal + clutter

def add_noise(signal, snr_db):
    signal_power = np.mean(np.abs(signal)**2)
    snr_linear = 10**(snr_db / 10)
    noise_power = signal_power / snr_linear
    noise = np.random.normal(0, np.sqrt(noise_power), len(signal))
    return signal + noise

def matched_filter(received, pulse):
    return correlate(received, pulse, mode='same')

def threshold_detector(signal, threshold):
    return signal > threshold

def calculate_pd(snr_db, pfa):
    snr_linear = 10**(snr_db / 10)
    threshold = np.sqrt(-2 * np.log(pfa))
    pd = 0.5 * erfc((threshold - np.sqrt(snr_linear)) / np.sqrt(2))
    return pd

def radar_range(Pt, Gt, Gr, lambda_radar, RCS, Smin, L=1):
    numerator = Pt * Gt * Gr * lambda_radar**2 * RCS
    denominator = (4 * np.pi)**3 * Smin * L
    return (numerator / denominator) ** 0.25

#simulating
def run_simulation_enhanced(fc, duration, sample_rate, distance, attenuation, snr_db, Pt, Gt, Gr, RCS, T, B, NF, pfa, velocity_mps, clutter_level_db):
    lambda_radar = c / fc
    system_noise_power = k * T * B * (10**(NF/10))
    max_range = radar_range(Pt, 10**(Gt/10), 10**(Gr/10), lambda_radar, RCS, system_noise_power)

    t, pulse = generate_pulse(fc, duration, sample_rate)
    echo = simulate_target_doppler(pulse, distance, sample_rate, velocity_mps, fc, attenuation)
    received = add_noise(add_clutter(echo, clutter_level_db, sample_rate), snr_db)
    output = matched_filter(received, pulse)

    threshold = np.max(output) * 0.5
    detections = threshold_detector(output, threshold)

    expected_delay_samples = int((2 * distance / c) * sample_rate)
    detection_window = int(0.05 * sample_rate)
    target_detected = np.any(detections[max(0, expected_delay_samples - detection_window):
                                        min(len(detections), expected_delay_samples + detection_window)])
    calculated_pd = calculate_pd(snr_db, pfa)
    doppler_freq = 2 * velocity_mps * fc / c

#plotting
    plt.figure(figsize=(12, 15))
    plt.subplot(4, 1, 1)
    plt.plot(t, pulse)
    plt.title("Generated Pulse")
    plt.grid(True)

    plt.subplot(4, 1, 2)
    plt.plot(received)
    plt.title("Received Signal (with noise and clutter)")
    plt.grid(True)

    plt.subplot(4, 1, 3)
    plt.plot(output)
    plt.axhline(y=threshold, color='r', linestyle='--', label=f'Threshold ({threshold:.2f})')
    plt.plot(np.where(detections)[0], output[detections], 'ro', markersize=5, label='Detections')
    plt.title("Matched Filter Output with Detections")
    plt.grid(True)
    plt.legend()

    plt.subplot(4, 1, 4)
    spectrum = np.abs(np.fft.fft(received - np.mean(received)))
    freqs = np.fft.fftfreq(len(received), 1/sample_rate)
    plt.plot(freqs, spectrum)
    plt.title(f"Frequency Spectrum (Doppler Shift: {doppler_freq:.2f} Hz)")
    plt.grid(True)

    plt.tight_layout()
    plt.show()

    print(f"Theoretical Pd: {calculated_pd:.4f}")
    print(f"Detection at expected target location: {'Yes' if target_detected else 'No'}")
    print(f"Simulated Doppler Shift: {doppler_freq:.2f} Hz")
    print(f"Maximum Theoretical Radar Range: {max_range:.2f} meters")

#connect
interactive_plot = interactive_output(
    run_simulation_enhanced,
    {'fc': fc_w, 'duration': duration_w, 'sample_rate': sample_rate_w,
     'distance': distance_w, 'attenuation': attenuation_w, 'snr_db': snr_db_w,
     'Pt': Pt_w, 'Gt': Gt_w, 'Gr': Gr_w, 'RCS': RCS_w,
     'T': Temp_w, 'B': B_w, 'NF': NF_w, 'pfa': pfa_w,
     'velocity_mps': velocity_w, 'clutter_level_db': clutter_level_w}
)

from IPython.display import display
display(param_widgets, interactive_plot)
